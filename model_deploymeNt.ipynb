{
 "cells": [
  {
   "cell_type": "code",
   "execution_count": 13,
   "metadata": {},
   "outputs": [],
   "source": [
    "import torch\n",
    "import torchvision\n",
    "import helper_functions\n",
    "from torchinfo import summary\n",
    "import matplotlib.pyplot as plt\n",
    "from torch import nn"
   ]
  },
  {
   "cell_type": "code",
   "execution_count": 3,
   "metadata": {},
   "outputs": [
    {
     "data": {
      "text/plain": [
       "'cuda'"
      ]
     },
     "execution_count": 3,
     "metadata": {},
     "output_type": "execute_result"
    }
   ],
   "source": [
    "device = \"cuda\" if torch.cuda.is_available() else \"cpu\"\n",
    "device"
   ]
  },
  {
   "cell_type": "code",
   "execution_count": 4,
   "metadata": {},
   "outputs": [
    {
     "name": "stdout",
     "output_type": "stream",
     "text": [
      "[INFO] data\\pizza_steak_sushi_20_percent directory exists, skipping download.\n"
     ]
    },
    {
     "data": {
      "text/plain": [
       "WindowsPath('data/pizza_steak_sushi_20_percent')"
      ]
     },
     "execution_count": 4,
     "metadata": {},
     "output_type": "execute_result"
    }
   ],
   "source": [
    "# Getting the data\n",
    "\n",
    "data_20_percent_path = helper_functions.download_data(source=\"https://github.com/mrdbourke/pytorch-deep-learning/raw/main/data/pizza_steak_sushi_20_percent.zip\",\n",
    "                                     destination=\"pizza_steak_sushi_20_percent\")\n",
    "\n",
    "data_20_percent_path"
   ]
  },
  {
   "cell_type": "code",
   "execution_count": 5,
   "metadata": {},
   "outputs": [
    {
     "data": {
      "text/plain": [
       "(WindowsPath('data/pizza_steak_sushi_20_percent/train'),\n",
       " WindowsPath('data/pizza_steak_sushi_20_percent/test'))"
      ]
     },
     "execution_count": 5,
     "metadata": {},
     "output_type": "execute_result"
    }
   ],
   "source": [
    "# Setup directory paths to train and test images\n",
    "train_dir = data_20_percent_path / \"train\"\n",
    "test_dir = data_20_percent_path / \"test\"\n",
    "\n",
    "train_dir, test_dir"
   ]
  },
  {
   "cell_type": "code",
   "execution_count": 6,
   "metadata": {},
   "outputs": [],
   "source": [
    "# Setup pretrained EffNetB2 weights\n",
    "effnetb2_weights = torchvision.models.EfficientNet_B2_Weights.DEFAULT\n",
    "\n",
    "# Get EffNetB2 transforms\n",
    "effnetb2_transforms = effnetb2_weights.transforms()\n",
    "\n",
    "# Setup pretrained model\n",
    "effnetb2 = torchvision.models.efficientnet_b2(weights=effnetb2_weights) # could also use weights=\"DEFAULT\"\n"
   ]
  },
  {
   "cell_type": "code",
   "execution_count": 7,
   "metadata": {},
   "outputs": [],
   "source": [
    "# Freeze the base layers in the model\n",
    "for param in effnetb2.parameters():\n",
    "    param.requires_grad = False"
   ]
  },
  {
   "cell_type": "code",
   "execution_count": 8,
   "metadata": {},
   "outputs": [
    {
     "data": {
      "text/plain": [
       "================================================================================================================================================================\n",
       "Layer (type (var_name))                                      Input Shape               Output Shape              Param #                   Trainable\n",
       "================================================================================================================================================================\n",
       "EfficientNet (EfficientNet)                                  [1, 3, 224, 224]          [1, 1000]                 --                        False\n",
       "├─Sequential (features)                                      [1, 3, 224, 224]          [1, 1408, 7, 7]           --                        False\n",
       "│    └─Conv2dNormActivation (0)                              [1, 3, 224, 224]          [1, 32, 112, 112]         --                        False\n",
       "│    │    └─Conv2d (0)                                       [1, 3, 224, 224]          [1, 32, 112, 112]         (864)                     False\n",
       "│    │    └─BatchNorm2d (1)                                  [1, 32, 112, 112]         [1, 32, 112, 112]         (64)                      False\n",
       "│    │    └─SiLU (2)                                         [1, 32, 112, 112]         [1, 32, 112, 112]         --                        --\n",
       "│    └─Sequential (1)                                        [1, 32, 112, 112]         [1, 16, 112, 112]         --                        False\n",
       "│    │    └─MBConv (0)                                       [1, 32, 112, 112]         [1, 16, 112, 112]         (1,448)                   False\n",
       "│    │    └─MBConv (1)                                       [1, 16, 112, 112]         [1, 16, 112, 112]         (612)                     False\n",
       "│    └─Sequential (2)                                        [1, 16, 112, 112]         [1, 24, 56, 56]           --                        False\n",
       "│    │    └─MBConv (0)                                       [1, 16, 112, 112]         [1, 24, 56, 56]           (6,004)                   False\n",
       "│    │    └─MBConv (1)                                       [1, 24, 56, 56]           [1, 24, 56, 56]           (10,710)                  False\n",
       "│    │    └─MBConv (2)                                       [1, 24, 56, 56]           [1, 24, 56, 56]           (10,710)                  False\n",
       "│    └─Sequential (3)                                        [1, 24, 56, 56]           [1, 48, 28, 28]           --                        False\n",
       "│    │    └─MBConv (0)                                       [1, 24, 56, 56]           [1, 48, 28, 28]           (16,518)                  False\n",
       "│    │    └─MBConv (1)                                       [1, 48, 28, 28]           [1, 48, 28, 28]           (43,308)                  False\n",
       "│    │    └─MBConv (2)                                       [1, 48, 28, 28]           [1, 48, 28, 28]           (43,308)                  False\n",
       "│    └─Sequential (4)                                        [1, 48, 28, 28]           [1, 88, 14, 14]           --                        False\n",
       "│    │    └─MBConv (0)                                       [1, 48, 28, 28]           [1, 88, 14, 14]           (50,300)                  False\n",
       "│    │    └─MBConv (1)                                       [1, 88, 14, 14]           [1, 88, 14, 14]           (123,750)                 False\n",
       "│    │    └─MBConv (2)                                       [1, 88, 14, 14]           [1, 88, 14, 14]           (123,750)                 False\n",
       "│    │    └─MBConv (3)                                       [1, 88, 14, 14]           [1, 88, 14, 14]           (123,750)                 False\n",
       "│    └─Sequential (5)                                        [1, 88, 14, 14]           [1, 120, 14, 14]          --                        False\n",
       "│    │    └─MBConv (0)                                       [1, 88, 14, 14]           [1, 120, 14, 14]          (149,158)                 False\n",
       "│    │    └─MBConv (1)                                       [1, 120, 14, 14]          [1, 120, 14, 14]          (237,870)                 False\n",
       "│    │    └─MBConv (2)                                       [1, 120, 14, 14]          [1, 120, 14, 14]          (237,870)                 False\n",
       "│    │    └─MBConv (3)                                       [1, 120, 14, 14]          [1, 120, 14, 14]          (237,870)                 False\n",
       "│    └─Sequential (6)                                        [1, 120, 14, 14]          [1, 208, 7, 7]            --                        False\n",
       "│    │    └─MBConv (0)                                       [1, 120, 14, 14]          [1, 208, 7, 7]            (301,406)                 False\n",
       "│    │    └─MBConv (1)                                       [1, 208, 7, 7]            [1, 208, 7, 7]            (686,868)                 False\n",
       "│    │    └─MBConv (2)                                       [1, 208, 7, 7]            [1, 208, 7, 7]            (686,868)                 False\n",
       "│    │    └─MBConv (3)                                       [1, 208, 7, 7]            [1, 208, 7, 7]            (686,868)                 False\n",
       "│    │    └─MBConv (4)                                       [1, 208, 7, 7]            [1, 208, 7, 7]            (686,868)                 False\n",
       "│    └─Sequential (7)                                        [1, 208, 7, 7]            [1, 352, 7, 7]            --                        False\n",
       "│    │    └─MBConv (0)                                       [1, 208, 7, 7]            [1, 352, 7, 7]            (846,900)                 False\n",
       "│    │    └─MBConv (1)                                       [1, 352, 7, 7]            [1, 352, 7, 7]            (1,888,920)               False\n",
       "│    └─Conv2dNormActivation (8)                              [1, 352, 7, 7]            [1, 1408, 7, 7]           --                        False\n",
       "│    │    └─Conv2d (0)                                       [1, 352, 7, 7]            [1, 1408, 7, 7]           (495,616)                 False\n",
       "│    │    └─BatchNorm2d (1)                                  [1, 1408, 7, 7]           [1, 1408, 7, 7]           (2,816)                   False\n",
       "│    │    └─SiLU (2)                                         [1, 1408, 7, 7]           [1, 1408, 7, 7]           --                        --\n",
       "├─AdaptiveAvgPool2d (avgpool)                                [1, 1408, 7, 7]           [1, 1408, 1, 1]           --                        --\n",
       "├─Sequential (classifier)                                    [1, 1408]                 [1, 1000]                 --                        False\n",
       "│    └─Dropout (0)                                           [1, 1408]                 [1, 1408]                 --                        --\n",
       "│    └─Linear (1)                                            [1, 1408]                 [1, 1000]                 (1,409,000)               False\n",
       "================================================================================================================================================================\n",
       "Total params: 9,109,994\n",
       "Trainable params: 0\n",
       "Non-trainable params: 9,109,994\n",
       "Total mult-adds (Units.MEGABYTES): 659.05\n",
       "================================================================================================================================================================\n",
       "Input size (MB): 0.60\n",
       "Forward/backward pass size (MB): 156.81\n",
       "Params size (MB): 36.44\n",
       "Estimated Total Size (MB): 193.85\n",
       "================================================================================================================================================================"
      ]
     },
     "execution_count": 8,
     "metadata": {},
     "output_type": "execute_result"
    }
   ],
   "source": [
    "summary(effnetb2, \n",
    "        input_size=(1, 3, 224, 224),\n",
    "        col_names=[\"input_size\", \"output_size\", \"num_params\", \"trainable\"], \n",
    "        row_settings=[\"var_names\"])"
   ]
  },
  {
   "cell_type": "code",
   "execution_count": 9,
   "metadata": {},
   "outputs": [
    {
     "data": {
      "text/plain": [
       "Sequential(\n",
       "  (0): Dropout(p=0.3, inplace=True)\n",
       "  (1): Linear(in_features=1408, out_features=1000, bias=True)\n",
       ")"
      ]
     },
     "execution_count": 9,
     "metadata": {},
     "output_type": "execute_result"
    }
   ],
   "source": [
    "# Check out EffNetB2 classifier head\n",
    "effnetb2.classifier"
   ]
  },
  {
   "cell_type": "code",
   "execution_count": 15,
   "metadata": {},
   "outputs": [],
   "source": [
    "# Update the classifier head\n",
    "effnetb2.classifier = nn.Sequential(\n",
    "    nn.Dropout(p=0.3, inplace=True),\n",
    "    nn.Linear(in_features=1408,\n",
    "              out_features=3))"
   ]
  },
  {
   "cell_type": "code",
   "execution_count": 11,
   "metadata": {},
   "outputs": [
    {
     "data": {
      "text/plain": [
       "================================================================================================================================================================\n",
       "Layer (type (var_name))                                      Input Shape               Output Shape              Param #                   Trainable\n",
       "================================================================================================================================================================\n",
       "EfficientNet (EfficientNet)                                  [1, 3, 224, 224]          [1, 3]                    --                        Partial\n",
       "├─Sequential (features)                                      [1, 3, 224, 224]          [1, 1408, 7, 7]           --                        False\n",
       "│    └─Conv2dNormActivation (0)                              [1, 3, 224, 224]          [1, 32, 112, 112]         --                        False\n",
       "│    │    └─Conv2d (0)                                       [1, 3, 224, 224]          [1, 32, 112, 112]         (864)                     False\n",
       "│    │    └─BatchNorm2d (1)                                  [1, 32, 112, 112]         [1, 32, 112, 112]         (64)                      False\n",
       "│    │    └─SiLU (2)                                         [1, 32, 112, 112]         [1, 32, 112, 112]         --                        --\n",
       "│    └─Sequential (1)                                        [1, 32, 112, 112]         [1, 16, 112, 112]         --                        False\n",
       "│    │    └─MBConv (0)                                       [1, 32, 112, 112]         [1, 16, 112, 112]         (1,448)                   False\n",
       "│    │    └─MBConv (1)                                       [1, 16, 112, 112]         [1, 16, 112, 112]         (612)                     False\n",
       "│    └─Sequential (2)                                        [1, 16, 112, 112]         [1, 24, 56, 56]           --                        False\n",
       "│    │    └─MBConv (0)                                       [1, 16, 112, 112]         [1, 24, 56, 56]           (6,004)                   False\n",
       "│    │    └─MBConv (1)                                       [1, 24, 56, 56]           [1, 24, 56, 56]           (10,710)                  False\n",
       "│    │    └─MBConv (2)                                       [1, 24, 56, 56]           [1, 24, 56, 56]           (10,710)                  False\n",
       "│    └─Sequential (3)                                        [1, 24, 56, 56]           [1, 48, 28, 28]           --                        False\n",
       "│    │    └─MBConv (0)                                       [1, 24, 56, 56]           [1, 48, 28, 28]           (16,518)                  False\n",
       "│    │    └─MBConv (1)                                       [1, 48, 28, 28]           [1, 48, 28, 28]           (43,308)                  False\n",
       "│    │    └─MBConv (2)                                       [1, 48, 28, 28]           [1, 48, 28, 28]           (43,308)                  False\n",
       "│    └─Sequential (4)                                        [1, 48, 28, 28]           [1, 88, 14, 14]           --                        False\n",
       "│    │    └─MBConv (0)                                       [1, 48, 28, 28]           [1, 88, 14, 14]           (50,300)                  False\n",
       "│    │    └─MBConv (1)                                       [1, 88, 14, 14]           [1, 88, 14, 14]           (123,750)                 False\n",
       "│    │    └─MBConv (2)                                       [1, 88, 14, 14]           [1, 88, 14, 14]           (123,750)                 False\n",
       "│    │    └─MBConv (3)                                       [1, 88, 14, 14]           [1, 88, 14, 14]           (123,750)                 False\n",
       "│    └─Sequential (5)                                        [1, 88, 14, 14]           [1, 120, 14, 14]          --                        False\n",
       "│    │    └─MBConv (0)                                       [1, 88, 14, 14]           [1, 120, 14, 14]          (149,158)                 False\n",
       "│    │    └─MBConv (1)                                       [1, 120, 14, 14]          [1, 120, 14, 14]          (237,870)                 False\n",
       "│    │    └─MBConv (2)                                       [1, 120, 14, 14]          [1, 120, 14, 14]          (237,870)                 False\n",
       "│    │    └─MBConv (3)                                       [1, 120, 14, 14]          [1, 120, 14, 14]          (237,870)                 False\n",
       "│    └─Sequential (6)                                        [1, 120, 14, 14]          [1, 208, 7, 7]            --                        False\n",
       "│    │    └─MBConv (0)                                       [1, 120, 14, 14]          [1, 208, 7, 7]            (301,406)                 False\n",
       "│    │    └─MBConv (1)                                       [1, 208, 7, 7]            [1, 208, 7, 7]            (686,868)                 False\n",
       "│    │    └─MBConv (2)                                       [1, 208, 7, 7]            [1, 208, 7, 7]            (686,868)                 False\n",
       "│    │    └─MBConv (3)                                       [1, 208, 7, 7]            [1, 208, 7, 7]            (686,868)                 False\n",
       "│    │    └─MBConv (4)                                       [1, 208, 7, 7]            [1, 208, 7, 7]            (686,868)                 False\n",
       "│    └─Sequential (7)                                        [1, 208, 7, 7]            [1, 352, 7, 7]            --                        False\n",
       "│    │    └─MBConv (0)                                       [1, 208, 7, 7]            [1, 352, 7, 7]            (846,900)                 False\n",
       "│    │    └─MBConv (1)                                       [1, 352, 7, 7]            [1, 352, 7, 7]            (1,888,920)               False\n",
       "│    └─Conv2dNormActivation (8)                              [1, 352, 7, 7]            [1, 1408, 7, 7]           --                        False\n",
       "│    │    └─Conv2d (0)                                       [1, 352, 7, 7]            [1, 1408, 7, 7]           (495,616)                 False\n",
       "│    │    └─BatchNorm2d (1)                                  [1, 1408, 7, 7]           [1, 1408, 7, 7]           (2,816)                   False\n",
       "│    │    └─SiLU (2)                                         [1, 1408, 7, 7]           [1, 1408, 7, 7]           --                        --\n",
       "├─AdaptiveAvgPool2d (avgpool)                                [1, 1408, 7, 7]           [1, 1408, 1, 1]           --                        --\n",
       "├─Sequential (classifier)                                    [1, 1408]                 [1, 3]                    --                        True\n",
       "│    └─Dropout (0)                                           [1, 1408]                 [1, 1408]                 --                        --\n",
       "│    └─Linear (1)                                            [1, 1408]                 [1, 3]                    4,227                     True\n",
       "================================================================================================================================================================\n",
       "Total params: 7,705,221\n",
       "Trainable params: 4,227\n",
       "Non-trainable params: 7,700,994\n",
       "Total mult-adds (Units.MEGABYTES): 657.64\n",
       "================================================================================================================================================================\n",
       "Input size (MB): 0.60\n",
       "Forward/backward pass size (MB): 156.80\n",
       "Params size (MB): 30.82\n",
       "Estimated Total Size (MB): 188.22\n",
       "================================================================================================================================================================"
      ]
     },
     "execution_count": 11,
     "metadata": {},
     "output_type": "execute_result"
    }
   ],
   "source": [
    "summary(effnetb2, \n",
    "        input_size=(1, 3, 224, 224),\n",
    "        col_names=[\"input_size\", \"output_size\", \"num_params\", \"trainable\"], \n",
    "        row_settings=[\"var_names\"])"
   ]
  },
  {
   "cell_type": "code",
   "execution_count": 16,
   "metadata": {},
   "outputs": [],
   "source": [
    "def create_effnetb2_model(num_classes:int=3, \n",
    "                          seed:int=42):\n",
    "    \n",
    "    # Create EffNetB2 pretrained weights, transforms and model\n",
    "    weights = torchvision.models.EfficientNet_B2_Weights.DEFAULT\n",
    "    transforms = weights.transforms()\n",
    "    model = torchvision.models.efficientnet_b2(weights=weights)\n",
    "\n",
    "    # Freeze all layers in base model\n",
    "    for param in model.parameters():\n",
    "        param.requires_grad = False\n",
    "\n",
    "    # 5. Change classifier head with random seed for reproducibility\n",
    "    torch.manual_seed(seed)\n",
    "    model.classifier = nn.Sequential(\n",
    "        nn.Dropout(p=0.3, inplace=True),\n",
    "        nn.Linear(in_features=1408, out_features=num_classes),\n",
    "    )\n",
    "    \n",
    "    return model, transforms"
   ]
  },
  {
   "cell_type": "code",
   "execution_count": null,
   "metadata": {},
   "outputs": [],
   "source": []
  }
 ],
 "metadata": {
  "kernelspec": {
   "display_name": "Python 3",
   "language": "python",
   "name": "python3"
  },
  "language_info": {
   "codemirror_mode": {
    "name": "ipython",
    "version": 3
   },
   "file_extension": ".py",
   "mimetype": "text/x-python",
   "name": "python",
   "nbconvert_exporter": "python",
   "pygments_lexer": "ipython3",
   "version": "3.11.8"
  }
 },
 "nbformat": 4,
 "nbformat_minor": 2
}
